{
 "cells": [
  {
   "cell_type": "code",
   "execution_count": 5,
   "metadata": {},
   "outputs": [],
   "source": [
    "from langchain.vectorstores import Chroma\n",
    "from langchain.document_loaders import PyPDFDirectoryLoader\n",
    "from langchain.text_splitter import RecursiveCharacterTextSplitter\n",
    "from langchain_groq import ChatGroq\n",
    "from langchain.embeddings import OllamaEmbeddings\n"
   ]
  },
  {
   "cell_type": "code",
   "execution_count": 2,
   "metadata": {},
   "outputs": [],
   "source": [
    "import os\n",
    "\n",
    "os.environ['LANGCHAIN_TRACING_V2'] = os.getenv(\"LANGCHAIN_TRACING_V2\")\n",
    "os.environ['LANGCHAIN_ENDPOINT'] = os.getenv(\"LANGCHAIN_ENDPOINT\")\n",
    "os.environ['LANGCHAIN_API_KEY'] = os.getenv(\"LANGCHAIN_API_KEY\")\n",
    "os.environ['GROQ_API_KEY'] = os.getenv(\"GROQ_API_KEY\")\n",
    "os.environ['LANGCHAIN_PROJECT'] = os.getenv(\"LANGCHAIN_PROJECT\")"
   ]
  },
  {
   "cell_type": "code",
   "execution_count": 3,
   "metadata": {},
   "outputs": [],
   "source": [
    "llm = ChatGroq(model=\"llama3-8b-8192\")\n",
    "embed_model = OllamaEmbeddings(model=\"all-minilm\")"
   ]
  },
  {
   "cell_type": "code",
   "execution_count": 6,
   "metadata": {},
   "outputs": [],
   "source": [
    "loader = PyPDFDirectoryLoader(\"pdfs\")\n"
   ]
  },
  {
   "cell_type": "code",
   "execution_count": 7,
   "metadata": {},
   "outputs": [],
   "source": [
    "data = loader.load()"
   ]
  },
  {
   "cell_type": "code",
   "execution_count": 9,
   "metadata": {},
   "outputs": [],
   "source": [
    "text_splitter = RecursiveCharacterTextSplitter(chunk_size = 1000, chunk_overlap = 100)"
   ]
  },
  {
   "cell_type": "code",
   "execution_count": 10,
   "metadata": {},
   "outputs": [],
   "source": [
    "docs = text_splitter.split_documents(data)"
   ]
  },
  {
   "cell_type": "code",
   "execution_count": 12,
   "metadata": {},
   "outputs": [],
   "source": [
    "# Creating DB\n",
    "db_dir = \"db\"\n",
    "vectordb = Chroma.from_documents(documents=docs,\n",
    "                                 embedding=embed_model,\n",
    "                                 persist_directory=db_dir)"
   ]
  },
  {
   "cell_type": "code",
   "execution_count": 13,
   "metadata": {},
   "outputs": [],
   "source": [
    "# persist db to disk\n",
    "vectordb.persist()"
   ]
  },
  {
   "cell_type": "code",
   "execution_count": 14,
   "metadata": {},
   "outputs": [],
   "source": [
    "vectordb = None"
   ]
  },
  {
   "cell_type": "code",
   "execution_count": 15,
   "metadata": {},
   "outputs": [],
   "source": [
    "# Load db from disk\n",
    "vectordb = Chroma(persist_directory= db_dir,embedding_function=embed_model)"
   ]
  },
  {
   "cell_type": "code",
   "execution_count": 16,
   "metadata": {},
   "outputs": [
    {
     "data": {
      "text/plain": [
       "<langchain_community.vectorstores.chroma.Chroma at 0x1444757f670>"
      ]
     },
     "execution_count": 16,
     "metadata": {},
     "output_type": "execute_result"
    }
   ],
   "source": [
    "vectordb"
   ]
  },
  {
   "cell_type": "code",
   "execution_count": 17,
   "metadata": {},
   "outputs": [],
   "source": [
    "# Make retriever\n",
    "retriever = vectordb.as_retriever()"
   ]
  },
  {
   "cell_type": "code",
   "execution_count": 19,
   "metadata": {},
   "outputs": [],
   "source": [
    "answers = retriever.get_relevant_documents(\"Which is highest and lowest proverty rate state in US for year 2022?\")"
   ]
  },
  {
   "cell_type": "code",
   "execution_count": 20,
   "metadata": {},
   "outputs": [
    {
     "data": {
      "text/plain": [
       "[Document(page_content='U.S. Census Bureau  3\\nUtah had poverty rates in the \\nlowest poverty map category, less than 10.0 percent in 2022.\\n9 \\nAlabama, Arkansas, Kentucky, Louisiana, Mississippi, New Mexico, Oklahoma, West Virginia, and Puerto Rico had 2022 poverty \\nrates of 15.0 percent or higher \\n(Figure 2).\\nIn 2022, no states had a significant \\nincrease in poverty, whereas nine \\n9 The 2022 poverty rates for Washington \\n(10.0 percent), Hawaii (10.2 percent), \\nVermont (10.4 percent), and Rhode Island \\n(10.8 percent) were not statistically different \\nfrom 10.0 percent.states and the District of Columbia \\nshowed decreases in poverty rates compared to 2021 (Figure 3). Forty-one states did not signifi-cantly change.\\nWhile the overall national 2022 \\npoverty rate was 12.6 percent, there was variability among census regions.\\n10 Eight out of the \\nnine states in the Northeast had \\n10 Census regions are groupings of states \\nand the District of Columbia that subdivide \\nthe United States for the presentation of', metadata={'page': 2, 'source': 'pdfs\\\\acsbr-016.pdf'}),\n",
       " Document(page_content='2 U.S. Census Bureau\\nPOVERTY\\nIn 2022, 12.6 percent of the total \\nU.S. population had income below their respective poverty thresh-olds, a significant decrease from the 2021 estimate of 12.8 percent. \\nThis follows what had been the \\nfirst increase in year-to-year pov -\\nerty rates since 2010 to 2011.\\n5 Prior \\n5 The U.S. poverty rate increased  \\nfrom 2019 to 2021. Estimates for  \\n2021 were compared to 2019, the last \\nprevious year with consistent weighting \\nmethodologies. For additional information \\non the 2020 experimental data, refer to  \\n<www.census.gov/programs-surveys/acs/\\ndata/experimental-data.html>.to that, poverty rates had declined \\nfor 6 consecutive years (from 15.8 percent in 2013 to 12.3 percent in 2019) (Figure 1).\\n6 \\nNew Hampshire had the lowest 2022 rate at 7.2 percent, while \\nMississippi and Louisiana had \\namong the highest at 19.1 percent and 18.6 percent, respectively \\n6 All year-to-year changes from 2005 \\nto 2022 (except between 2005–2006,', metadata={'page': 1, 'source': 'pdfs\\\\acsbr-016.pdf'}),\n",
       " Document(page_content='District of Columbia, Puerto Rico, \\nand metro areas. \\nThe national poverty rate \\ndecreased in 2022 from 12.8 \\npercent to 12.6 percent. This \\ndecline follows an increase from \\n2019 to 2021 that had reversed \\na trend of 6 straight years of \\ndeclining poverty from 2014 to \\n2019. The poverty rate decreased \\nin 9 states and the District of \\nColumbia, reversing a state-level \\ntrend that saw 14 states and the \\nDistrict of Columbia increase in \\npoverty between 2019 and 2021. \\nThere were also poverty rate \\ndecreases in 5 of the 25 most \\npopulous metropolitan areas.\\nThe percentage of the U.S. popula -\\ntion with income below 50 percent \\nof their poverty threshold was \\n6.1 percent in 2022 and did not \\nsignificantly change from 2021. Ten \\nstates and the District of Columbia \\nhad declining rates at this income-\\nto-poverty ratio, while four states \\nhad increasing rates compared to \\n2021.', metadata={'page': 9, 'source': 'pdfs\\\\acsbr-016.pdf'}),\n",
       " Document(page_content='and the District of Columbia that subdivide \\nthe United States for the presentation of \\nCensus Bureau data. For more information, \\nrefer to < https:/ /www2.census.gov/geo/pdfs/\\nmaps-data/maps/reference/us_regdiv.pdf>.poverty rates of 12.0 percent or \\nless and three had poverty rates of 10.0 percent or less, whereas seven states in the South had poverty rates of 15.0 percent or \\nmore. States in the Midwest were \\nconsistently in the middle catego-ries, with all but one state between 10.0 percent and 14.9 percent (Minnesota being the exception, with a rate of 9.6 percent). The West had two states in the lowest poverty category and one state in the highest (Figure 2). \\nDC\\nTXCAMT\\nAZID\\nNV\\nNMCOILOR\\nUT\\nKSWY\\nIA\\nNESDMN\\nFLND\\nOKWI\\nMOWA\\nAL GA\\nLAARMI\\nINPANY\\nNC\\nMSTNVA\\nKYOH\\nSCME\\nWVVT\\nNH\\nNJMACT\\nMDDERI\\n0 100 MilesU.S. percent: 12.6/one.tab/five.tab/period.tab/zero.tab or more', metadata={'page': 2, 'source': 'pdfs\\\\acsbr-016.pdf'})]"
      ]
     },
     "execution_count": 20,
     "metadata": {},
     "output_type": "execute_result"
    }
   ],
   "source": [
    "answers"
   ]
  },
  {
   "cell_type": "code",
   "execution_count": 21,
   "metadata": {},
   "outputs": [],
   "source": [
    "# Chain\n",
    "from langchain.chains import RetrievalQA"
   ]
  },
  {
   "cell_type": "code",
   "execution_count": 22,
   "metadata": {},
   "outputs": [],
   "source": [
    "RQAchain = RetrievalQA.from_chain_type(retriever= retriever,\n",
    "                                       chain_type=\"stuff\",\n",
    "                                       llm = llm,\n",
    "                                       return_source_documents = True)"
   ]
  },
  {
   "cell_type": "code",
   "execution_count": 23,
   "metadata": {},
   "outputs": [],
   "source": [
    "# Cite resources\n",
    "def process_llm_response(llm_resp):\n",
    "    print(llm_resp['result'])\n",
    "    print(\"Source:\\n\")\n",
    "    for refs in llm_resp['source_documents']:\n",
    "        print(refs.metadata['source'])\n",
    "\n"
   ]
  },
  {
   "cell_type": "code",
   "execution_count": 24,
   "metadata": {},
   "outputs": [
    {
     "name": "stdout",
     "output_type": "stream",
     "text": [
      "According to the text, the highest poverty rate state in the US for 2022 is Mississippi, with a rate of 19.1 percent.\n",
      "\n",
      "The lowest poverty rate state in the US for 2022 is New Hampshire, with a rate of 7.2 percent.\n",
      "Source:\n",
      "\n",
      "pdfs\\acsbr-016.pdf\n",
      "pdfs\\acsbr-016.pdf\n",
      "pdfs\\acsbr-016.pdf\n",
      "pdfs\\acsbr-016.pdf\n"
     ]
    }
   ],
   "source": [
    "Query = \"Which is highest and lowest proverty rate state in US for year 2022?\"\n",
    "\n",
    "llm_resp = RQAchain(Query)\n",
    "process_llm_response(llm_resp=llm_resp)"
   ]
  },
  {
   "cell_type": "code",
   "execution_count": null,
   "metadata": {},
   "outputs": [],
   "source": []
  },
  {
   "cell_type": "code",
   "execution_count": null,
   "metadata": {},
   "outputs": [],
   "source": []
  },
  {
   "cell_type": "code",
   "execution_count": null,
   "metadata": {},
   "outputs": [],
   "source": []
  }
 ],
 "metadata": {
  "kernelspec": {
   "display_name": "llms_env",
   "language": "python",
   "name": "python3"
  },
  "language_info": {
   "codemirror_mode": {
    "name": "ipython",
    "version": 3
   },
   "file_extension": ".py",
   "mimetype": "text/x-python",
   "name": "python",
   "nbconvert_exporter": "python",
   "pygments_lexer": "ipython3",
   "version": "3.10.0"
  }
 },
 "nbformat": 4,
 "nbformat_minor": 2
}
