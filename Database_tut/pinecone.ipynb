{
 "cells": [
  {
   "cell_type": "code",
   "execution_count": null,
   "metadata": {},
   "outputs": [],
   "source": [
    "%pip install pinecone-client\n",
    "!pip install langchain\n",
    "!pip install pypdf\n",
    "!pip install openai\n",
    "!pip install tiktoken\n",
    "# !pip install langchain"
   ]
  },
  {
   "cell_type": "code",
   "execution_count": null,
   "metadata": {},
   "outputs": [],
   "source": [
    "%pip install \"pinecone-client[grpc]\"\n",
    "\n",
    "# To install without gRPC run:\n",
    "# pip3 install pinecone\n"
   ]
  },
  {
   "cell_type": "code",
   "execution_count": 1,
   "metadata": {},
   "outputs": [],
   "source": [
    "from langchain.document_loaders import PyPDFDirectoryLoader\n",
    "from langchain.text_splitter import RecursiveCharacterTextSplitter\n",
    "from langchain.embeddings import OllamaEmbeddings\n",
    "from langchain_groq import ChatGroq\n",
    "import os \n",
    "from dotenv import load_dotenv\n",
    "from langchain.vectorstores import Pinecone\n",
    "from langchain.chains import RetrievalQA\n",
    "from langchain.prompts import PromptTemplate\n"
   ]
  },
  {
   "cell_type": "code",
   "execution_count": 2,
   "metadata": {},
   "outputs": [],
   "source": [
    "load_dotenv()\n",
    "\n",
    "# Env keys\n",
    "os.environ['LANGCHAIN_TRACING_V2'] = os.getenv('LANGCHAIN_TRACING_V2')\n",
    "os.environ['LANGCHAIN_ENDPOINT'] = os.getenv('LANGCHAIN_ENDPOINT')\n",
    "os.environ['LANGCHAIN_API_KEY'] = os.getenv('LANGCHAIN_API_KEY')\n",
    "os.environ['LANGCHAIN_PROJECT'] = os.getenv('LANGCHAIN_PROJECT')\n",
    "os.environ['GROQ_API_KEY'] = os.getenv('GROQ_API_KEY')\n",
    "os.environ['PINECONE_API_KEY'] = os.getenv('PINECONE_API_KEY')\n",
    "groq_api_key= os.environ['GROQ_API_KEY']"
   ]
  },
  {
   "cell_type": "code",
   "execution_count": 3,
   "metadata": {},
   "outputs": [],
   "source": [
    "llm = ChatGroq(model=\"llama3-8b-8192\")\n",
    "embed_model = OllamaEmbeddings(model=\"all-minilm\")"
   ]
  },
  {
   "cell_type": "code",
   "execution_count": 4,
   "metadata": {},
   "outputs": [
    {
     "name": "stderr",
     "output_type": "stream",
     "text": [
      "A subdirectory or file pdfs already exists.\n"
     ]
    }
   ],
   "source": [
    "!mkdir pdfs"
   ]
  },
  {
   "cell_type": "code",
   "execution_count": 5,
   "metadata": {},
   "outputs": [],
   "source": [
    "loader = PyPDFDirectoryLoader(\"pdfs\")\n",
    "data = loader.load()"
   ]
  },
  {
   "cell_type": "code",
   "execution_count": 6,
   "metadata": {},
   "outputs": [
    {
     "data": {
      "text/plain": [
       "Document(page_content='Poverty in States and Metropolitan  \\nAreas: 2022\\nAmerican Community Survey Briefs\\nDecember 2023ACSBR-016By Craig Benson\\nINTRODUCTION\\nPlanners, policymakers, and community stakeholders \\nuse poverty estimates as key indicators to evaluate trends and current economic conditions within com-munities and to make comparisons across demo-graphic groups. Federal and state governments often \\nuse these estimates to allocate funds to local com-\\nmunities. Government agencies, researchers, and local organizations regularly use these estimates to identify the number of individuals and families eligible for vari-ous programs and to measure economic well-being.\\nThis brief uses the 2021 and 2022 American \\nCommunity Survey (ACS) 1-year estimates and the \\n2021 and 2022 Puerto Rico Community Surveys \\n(PRCS) to analyze poverty rates for calendar year 2022, as well as the changes in poverty from calen-dar year 2021 for the nation, states, the District of Columbia, Puerto Rico, and metropolitan statistical areas (MSAs).\\n1, 2\\nThis brief also discusses the distribution of people  by income-to-poverty ratios for the aforementioned \\n1 Metropolitan statistical areas (MSAs or metro areas) are \\ngeographic entities delineated by the Office of Management and \\nBudget (OMB) for use by federal statistical agencies in collecting, \\ntabulating, and publishing federal statistics. A metro area contains \\na core urban area with a population of 50,000 or more individuals. \\nFor more information, refer to <www.census.gov/programs-surveys/\\nmetro-micro/about/omb-standards.html>.\\n² The U.S. Census Bureau reviewed this data product for \\nunauthorized disclosure of confidential information and has \\napproved the disclosure avoidance practices applied to this release. \\nCBDRB-FY23-0175. All comparative statements have undergone \\nstatistical testing and are statistically significant at the 90 percent \\nconfidence level, unless otherwise noted.geographic areas, providing a picture of the depth of \\npoverty and those near or just above their poverty threshold.\\n3\\nHIGHLIGHTS\\n• In 2022, the ACS national poverty rate was 12.6 per-cent, a decrease from 12.8 percent in 2021.\\n4\\n• The poverty rate decreased in 9 states and the District of Columbia between 2021 and 2022. No state had a poverty rate increase from 2021 to 2022. Poverty rates did not change in 41 states and Puerto Rico. Poverty rates in states and the District \\nof Columbia ranged from 7.2 percent to 19.1 percent. \\n• In 5 of the 25 most populous metropolitan areas, \\nthe poverty rate decreased between 2021 and 2022. The Minneapolis MSA was the only metro area among the 25 most populous metropolitan areas that saw poverty increase, from 8.0 percent to 8.8 \\npercent.\\n• In 2022, 6.1 percent of people nationally had income \\nbelow 50 percent of their poverty threshold, which was not statistically different from the 2021 rate of 6.2 percent. The share of individuals living below 50 percent of poverty decreased in 10 states and the \\nDistrict of Columbia and increased in 4 states. \\n3 The data collection period for the 2021 ACS spanned January to \\nDecember 2021; the data collection period for the 2022 ACS spanned \\nJanuary to December 2022.\\n4 Following the standard specified by OMB in Statistical Policy \\nDirective 14, data from the Current Population Survey Annual Social Economic Supplement are used to estimate the official \\nnational poverty rate that can be found in the report “Poverty in \\nthe United States: 2022,” available at <www.census.gov/library/\\npublications/2023/demo/p60-280.html>. The national poverty \\npercentage does not include data for Puerto Rico.', metadata={'source': 'pdfs\\\\acsbr-016.pdf', 'page': 0})"
      ]
     },
     "execution_count": 6,
     "metadata": {},
     "output_type": "execute_result"
    }
   ],
   "source": [
    "data[0]"
   ]
  },
  {
   "cell_type": "code",
   "execution_count": 7,
   "metadata": {},
   "outputs": [],
   "source": [
    "text_splitter = RecursiveCharacterTextSplitter(chunk_size = 1000, chunk_overlap = 100 )\n",
    "docs = text_splitter.split_documents(data)"
   ]
  },
  {
   "cell_type": "code",
   "execution_count": 8,
   "metadata": {},
   "outputs": [
    {
     "data": {
      "text/plain": [
       "Document(page_content='• In 5 of the 25 most populous metropolitan areas, \\nthe poverty rate decreased between 2021 and 2022. The Minneapolis MSA was the only metro area among the 25 most populous metropolitan areas that saw poverty increase, from 8.0 percent to 8.8 \\npercent.\\n• In 2022, 6.1 percent of people nationally had income \\nbelow 50 percent of their poverty threshold, which was not statistically different from the 2021 rate of 6.2 percent. The share of individuals living below 50 percent of poverty decreased in 10 states and the \\nDistrict of Columbia and increased in 4 states. \\n3 The data collection period for the 2021 ACS spanned January to \\nDecember 2021; the data collection period for the 2022 ACS spanned \\nJanuary to December 2022.\\n4 Following the standard specified by OMB in Statistical Policy \\nDirective 14, data from the Current Population Survey Annual Social Economic Supplement are used to estimate the official \\nnational poverty rate that can be found in the report “Poverty in', metadata={'source': 'pdfs\\\\acsbr-016.pdf', 'page': 0})"
      ]
     },
     "execution_count": 8,
     "metadata": {},
     "output_type": "execute_result"
    }
   ],
   "source": [
    "docs[3]"
   ]
  },
  {
   "cell_type": "code",
   "execution_count": 9,
   "metadata": {},
   "outputs": [
    {
     "data": {
      "text/plain": [
       "384"
      ]
     },
     "execution_count": 9,
     "metadata": {},
     "output_type": "execute_result"
    }
   ],
   "source": [
    "len(embed_model.embed_query(\"How are you\"))"
   ]
  },
  {
   "cell_type": "code",
   "execution_count": 10,
   "metadata": {},
   "outputs": [],
   "source": [
    "PINCONE_API_KEY = os.environ['PINECONE_API_KEY']"
   ]
  },
  {
   "cell_type": "code",
   "execution_count": 11,
   "metadata": {},
   "outputs": [
    {
     "name": "stderr",
     "output_type": "stream",
     "text": [
      "c:\\Users\\shambhuraj patil\\anaconda3\\envs\\llms_env\\lib\\site-packages\\pinecone\\data\\index.py:1: TqdmWarning: IProgress not found. Please update jupyter and ipywidgets. See https://ipywidgets.readthedocs.io/en/stable/user_install.html\n",
      "  from tqdm.autonotebook import tqdm\n"
     ]
    }
   ],
   "source": [
    "from pinecone.grpc import PineconeGRPC\n",
    "pc = PineconeGRPC(api_key= PINCONE_API_KEY)"
   ]
  },
  {
   "cell_type": "code",
   "execution_count": 15,
   "metadata": {},
   "outputs": [],
   "source": [
    "from pinecone import ServerlessSpec\n",
    "index_name = \"tut\"\n",
    "if not pc.has_index(index_name):\n",
    "    pc.create_index(\n",
    "        name=index_name,\n",
    "        dimension=len(embed_model.embed_query(\"How are you\")),\n",
    "        metric=\"cosine\",\n",
    "        spec=ServerlessSpec(\n",
    "            cloud='aws', \n",
    "            region='us-east-1'\n",
    "        ) \n",
    "    ) "
   ]
  },
  {
   "cell_type": "code",
   "execution_count": 13,
   "metadata": {},
   "outputs": [],
   "source": [
    "## Create embedding for each chunks"
   ]
  },
  {
   "cell_type": "code",
   "execution_count": 16,
   "metadata": {},
   "outputs": [],
   "source": [
    "doc_search = Pinecone.from_texts([t.page_content for t in docs], embed_model,index_name= index_name)"
   ]
  },
  {
   "cell_type": "code",
   "execution_count": 17,
   "metadata": {},
   "outputs": [
    {
     "data": {
      "text/plain": [
       "<langchain_community.vectorstores.pinecone.Pinecone at 0x1a7e8a45ff0>"
      ]
     },
     "execution_count": 17,
     "metadata": {},
     "output_type": "execute_result"
    }
   ],
   "source": [
    "doc_search"
   ]
  },
  {
   "cell_type": "code",
   "execution_count": 18,
   "metadata": {},
   "outputs": [],
   "source": [
    "Query = \"Which US states have lowest and Highest poverty rates in 2022?\"\n",
    "answers =doc_search.similarity_search(Query)"
   ]
  },
  {
   "cell_type": "code",
   "execution_count": 19,
   "metadata": {},
   "outputs": [
    {
     "data": {
      "text/plain": [
       "[Document(page_content='U.S. Census Bureau  3\\nUtah had poverty rates in the \\nlowest poverty map category, less than 10.0 percent in 2022.\\n9 \\nAlabama, Arkansas, Kentucky, Louisiana, Mississippi, New Mexico, Oklahoma, West Virginia, and Puerto Rico had 2022 poverty \\nrates of 15.0 percent or higher \\n(Figure 2).\\nIn 2022, no states had a significant \\nincrease in poverty, whereas nine \\n9 The 2022 poverty rates for Washington \\n(10.0 percent), Hawaii (10.2 percent), \\nVermont (10.4 percent), and Rhode Island \\n(10.8 percent) were not statistically different \\nfrom 10.0 percent.states and the District of Columbia \\nshowed decreases in poverty rates compared to 2021 (Figure 3). Forty-one states did not signifi-cantly change.\\nWhile the overall national 2022 \\npoverty rate was 12.6 percent, there was variability among census regions.\\n10 Eight out of the \\nnine states in the Northeast had \\n10 Census regions are groupings of states \\nand the District of Columbia that subdivide \\nthe United States for the presentation of'),\n",
       " Document(page_content='2 U.S. Census Bureau\\nPOVERTY\\nIn 2022, 12.6 percent of the total \\nU.S. population had income below their respective poverty thresh-olds, a significant decrease from the 2021 estimate of 12.8 percent. \\nThis follows what had been the \\nfirst increase in year-to-year pov -\\nerty rates since 2010 to 2011.\\n5 Prior \\n5 The U.S. poverty rate increased  \\nfrom 2019 to 2021. Estimates for  \\n2021 were compared to 2019, the last \\nprevious year with consistent weighting \\nmethodologies. For additional information \\non the 2020 experimental data, refer to  \\n<www.census.gov/programs-surveys/acs/\\ndata/experimental-data.html>.to that, poverty rates had declined \\nfor 6 consecutive years (from 15.8 percent in 2013 to 12.3 percent in 2019) (Figure 1).\\n6 \\nNew Hampshire had the lowest 2022 rate at 7.2 percent, while \\nMississippi and Louisiana had \\namong the highest at 19.1 percent and 18.6 percent, respectively \\n6 All year-to-year changes from 2005 \\nto 2022 (except between 2005–2006,'),\n",
       " Document(page_content='viduals living in this near poverty \\ncategory include Mississippi (5.7 \\npercent), New Mexico (5.4 per -\\ncent), Arkansas (5.4 percent), and \\nWest Virginia (5.3 percent).20 \\nThe percentage of individuals \\nin near poverty in Puerto Rico \\nwas 9.0 percent in 2022. From \\n2021 to 2022, the percentage of \\npeople in near poverty increased \\nin three states (Connecticut, New \\nHampshire, and Pennsylvania) \\nand decreased in three oth -\\ners (Alabama, Kentucky, and \\nTennessee).\\nTable 2 (and Appendix Table 4 for \\n2021 estimates) displays the per -\\ncentage of people in near poverty \\nfor 2021 and 2022 among the 25 \\nmost populous metropolitan areas. \\nThe metro areas ranged from 2.3 \\npercent to 4.4 percent.21, 22 \\nLooking at the corresponding \\nnear poverty rates for the 25 most \\n19 In 2022, the percentages of people \\nwith an income-to-poverty ratio between \\n100 percent to below 125 percent was the \\nlowest and not statistically different in \\nNew Hampshire (2.4 percent), New Jersey'),\n",
       " Document(page_content='divisions-of-the-united-states.html>.Table 1 for states and Table 2 for \\nmetro areas include several dif-ferent income-to-poverty ratios. This brief provides analysis for two categories, below 50 percent of \\nthe poverty threshold and between \\n100 percent to below 125 percent of the poverty threshold.\\nTable 1 details the proportion of \\npeople with income below 50 percent of their poverty thresh-old in 2022 for the nation, states, \\nthe District of Columbia, and \\nPuerto Rico (refer to Appendix Table 3 for 2021 estimates). The tables also show various other income-to-poverty ratios. The share of the U.S. population with income below 50 percent of their poverty threshold was 6.1 percent in 2022 and showed no statistically \\nsignificant change from 2021. \\nOverall, 10 states and the District \\nof Columbia had a decrease in the proportion of people with an income-to-poverty ratio below 50 percent since 2021. Four states had an increase in the state’s popula-\\ntion living with incomes below')]"
      ]
     },
     "execution_count": 19,
     "metadata": {},
     "output_type": "execute_result"
    }
   ],
   "source": [
    "answers"
   ]
  },
  {
   "cell_type": "code",
   "execution_count": 20,
   "metadata": {},
   "outputs": [],
   "source": [
    "qa = RetrievalQA.from_chain_type(llm=llm,chain_type=\"stuff\",retriever = doc_search.as_retriever()) "
   ]
  },
  {
   "cell_type": "code",
   "execution_count": 21,
   "metadata": {},
   "outputs": [
    {
     "name": "stderr",
     "output_type": "stream",
     "text": [
      "c:\\Users\\shambhuraj patil\\anaconda3\\envs\\llms_env\\lib\\site-packages\\langchain_core\\_api\\deprecation.py:139: LangChainDeprecationWarning: The method `Chain.run` was deprecated in langchain 0.1.0 and will be removed in 0.3.0. Use invoke instead.\n",
      "  warn_deprecated(\n"
     ]
    },
    {
     "data": {
      "text/plain": [
       "'According to the text, the states with the lowest poverty rates in 2022 were:\\n\\n* Utah, with a rate of less than 10.0 percent (in the lowest poverty map category)\\n* Washington, with a rate of 10.0 percent\\n* Hawaii, with a rate of 10.2 percent\\n* Vermont, with a rate of 10.4 percent\\n* Rhode Island, with a rate of 10.8 percent\\n\\nThe state with the lowest poverty rate in 2022 was New Hampshire, with a rate of 7.2 percent.\\n\\nOn the other hand, the states with the highest poverty rates in 2022 were:\\n\\n* Mississippi, with a rate of 19.1 percent\\n* Louisiana, with a rate of 18.6 percent\\n* Alabama, with a rate of 15.0 percent or higher\\n* Arkansas, with a rate of 15.0 percent or higher\\n* Kentucky, with a rate of 15.0 percent or higher\\n* Oklahoma, with a rate of 15.0 percent or higher\\n* West Virginia, with a rate of 15.0 percent or higher\\n* Puerto Rico, with a rate of 15.0 percent or higher'"
      ]
     },
     "execution_count": 21,
     "metadata": {},
     "output_type": "execute_result"
    }
   ],
   "source": [
    "qa.run(Query)"
   ]
  },
  {
   "cell_type": "code",
   "execution_count": 22,
   "metadata": {},
   "outputs": [
    {
     "data": {
      "text/plain": [
       "VectorStoreRetriever(tags=['Pinecone', 'OllamaEmbeddings'], vectorstore=<langchain_community.vectorstores.pinecone.Pinecone object at 0x000001A7E8A45FF0>)"
      ]
     },
     "execution_count": 22,
     "metadata": {},
     "output_type": "execute_result"
    }
   ],
   "source": [
    "doc_search.as_retriever()"
   ]
  },
  {
   "cell_type": "code",
   "execution_count": null,
   "metadata": {},
   "outputs": [],
   "source": []
  }
 ],
 "metadata": {
  "kernelspec": {
   "display_name": "llms_env",
   "language": "python",
   "name": "python3"
  },
  "language_info": {
   "codemirror_mode": {
    "name": "ipython",
    "version": 3
   },
   "file_extension": ".py",
   "mimetype": "text/x-python",
   "name": "python",
   "nbconvert_exporter": "python",
   "pygments_lexer": "ipython3",
   "version": "3.10.0"
  }
 },
 "nbformat": 4,
 "nbformat_minor": 2
}
