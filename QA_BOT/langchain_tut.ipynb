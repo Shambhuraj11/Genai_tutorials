{
 "cells": [
  {
   "cell_type": "code",
   "execution_count": 1,
   "metadata": {},
   "outputs": [],
   "source": [
    "import os \n",
    "from dotenv import load_dotenv\n",
    "from langchain_groq import ChatGroq"
   ]
  },
  {
   "cell_type": "code",
   "execution_count": 2,
   "metadata": {},
   "outputs": [],
   "source": [
    "load_dotenv()\n",
    "\n",
    "# Env keys\n",
    "os.environ['LANGCHAIN_TRACING_V2'] = os.getenv('LANGCHAIN_TRACING_V2')\n",
    "os.environ['LANGCHAIN_ENDPOINT'] = os.getenv('LANGCHAIN_ENDPOINT')\n",
    "os.environ['LANGCHAIN_API_KEY'] = os.getenv('LANGCHAIN_API_KEY')\n",
    "os.environ['LANGCHAIN_PROJECT'] = os.getenv('LANGCHAIN_PROJECT')\n",
    "os.environ['GROQ_API_KEY'] = os.getenv('GROQ_API_KEY')\n",
    "\n",
    "groq_api_key= os.environ['GROQ_API_KEY']"
   ]
  },
  {
   "cell_type": "code",
   "execution_count": 3,
   "metadata": {},
   "outputs": [],
   "source": [
    "llm = ChatGroq(model=\"llama3-8b-8192\")"
   ]
  },
  {
   "cell_type": "code",
   "execution_count": 4,
   "metadata": {},
   "outputs": [],
   "source": [
    "# Prompt Template"
   ]
  },
  {
   "cell_type": "code",
   "execution_count": 5,
   "metadata": {},
   "outputs": [
    {
     "data": {
      "text/plain": [
       "'Tell me the capital of India'"
      ]
     },
     "execution_count": 5,
     "metadata": {},
     "output_type": "execute_result"
    }
   ],
   "source": [
    "from langchain.prompts import PromptTemplate\n",
    "\n",
    "prompt_temp = PromptTemplate(input_variables = [\"country\"],\n",
    "                             template = \"Tell me the capital of {country}\" )\n",
    "\n",
    "\n",
    "prompt_temp.format(country = \"India\")"
   ]
  },
  {
   "cell_type": "code",
   "execution_count": 6,
   "metadata": {},
   "outputs": [],
   "source": [
    "from langchain.chains import LLMChain"
   ]
  },
  {
   "cell_type": "code",
   "execution_count": 7,
   "metadata": {},
   "outputs": [
    {
     "name": "stderr",
     "output_type": "stream",
     "text": [
      "c:\\Users\\shambhuraj patil\\anaconda3\\envs\\llms_env\\lib\\site-packages\\langchain_core\\_api\\deprecation.py:139: LangChainDeprecationWarning: The class `LLMChain` was deprecated in LangChain 0.1.17 and will be removed in 0.3.0. Use RunnableSequence, e.g., `prompt | llm` instead.\n",
      "  warn_deprecated(\n",
      "c:\\Users\\shambhuraj patil\\anaconda3\\envs\\llms_env\\lib\\site-packages\\langchain_core\\_api\\deprecation.py:139: LangChainDeprecationWarning: The method `Chain.run` was deprecated in langchain 0.1.0 and will be removed in 0.3.0. Use invoke instead.\n",
      "  warn_deprecated(\n"
     ]
    },
    {
     "data": {
      "text/plain": [
       "'The capital of India is New Delhi.'"
      ]
     },
     "execution_count": 7,
     "metadata": {},
     "output_type": "execute_result"
    }
   ],
   "source": [
    "chain = LLMChain(llm=llm,prompt = prompt_temp)\n",
    "chain.run(\"India\")"
   ]
  },
  {
   "cell_type": "code",
   "execution_count": 8,
   "metadata": {},
   "outputs": [],
   "source": [
    "## Combining multiple chains using simple sequential chains"
   ]
  },
  {
   "cell_type": "code",
   "execution_count": 9,
   "metadata": {},
   "outputs": [],
   "source": [
    "capital_prompt = PromptTemplate(input_variables=['country'],\n",
    "                                template = \"Tell me the capital of {country}\")\n",
    "\n",
    "capital_chain = LLMChain(llm=llm,prompt=capital_prompt)\n",
    "\n",
    "famous_prompt = PromptTemplate(input_variables=['capital'],\n",
    "                               template = \"Suggest me some amazing places to vist in {capital}\")"
   ]
  },
  {
   "cell_type": "code",
   "execution_count": 10,
   "metadata": {},
   "outputs": [],
   "source": [
    "famous_chain = LLMChain(llm=llm,prompt=famous_prompt)"
   ]
  },
  {
   "cell_type": "code",
   "execution_count": 12,
   "metadata": {},
   "outputs": [
    {
     "data": {
      "text/plain": [
       "{'input': 'India',\n",
       " 'output': \"The vibrant city of New Delhi! There are countless amazing places to visit in the capital of India. Here are some must-see attractions:\\n\\n1. **Red Fort** (Lal Qila): A majestic Mughal-era fort built in the 17th century, now a UNESCO World Heritage Site.\\n2. **Qutub Minar**: The tallest minaret in India, built in 1192, and a symbol of Islamic architecture.\\n3. **India Gate**: A war memorial built to commemorate the Indian soldiers who died during World War I.\\n4. **Akshardham Temple**: A stunning Hindu temple complex built in 2005, featuring intricate carvings and a beautiful garden.\\n5. **Humayun's Tomb**: A beautiful Mughal-era mausoleum, the first garden tomb in India, and a UNESCO World Heritage Site.\\n6. **Lodi Gardens**: A serene park with beautiful gardens, walking trails, and historical monuments.\\n7. **Connaught Place**: A bustling commercial hub with a mix of colonial and modern architecture.\\n8. **Chandni Chowk**: A historic bazaar in Old Delhi, known for its street food, shopping, and cultural experiences.\\n9. **Rashtrapati Bhavan**: The official residence of the President of India, built in the 1920s, and a blend of Indian and European architectural styles.\\n10. **National Museum**: A premier cultural institution showcasing India's rich history and art.\\n11. **National Gallery of Modern Art**: A museum featuring a wide range of modern and contemporary Indian art.\\n12. **Safdarjung's Tomb**: A beautiful Mughal-era mausoleum, built in the 18th century, and a popular tourist spot.\\n13. **Lotus Temple**: A stunning Bahai House of Worship, known for its unique architecture and beautiful gardens.\\n14. **Purana Qila**: A 16th-century fort built by the Mughal Empire, now a popular tourist spot with a beautiful garden.\\n15. **Hauz Khas Village**: A charming village with a beautiful lake, ancient ruins, and a vibrant nightlife.\\n16. **Sarojini Nagar Market**: A popular shopping destination with a wide range of affordable clothing and accessories.\\n17. **Delhi Haat**: A popular market with a variety of traditional handicrafts, food, and cultural experiences.\\n18. **National Rail Museum**: A museum showcasing India's rich railway history, with a collection of vintage trains and locomotives.\\n19. **Delhi Zoo**: A popular zoo with a wide range of animals, including rare species.\\n20. **Kiran Nadar Museum of Art**: A museum featuring a diverse collection of modern and contemporary Indian art.\\n\\nThese are just a few of the many amazing places to visit in New Delhi. The city has a lot to offer, so take your time to explore and discover its hidden gems!\"}"
      ]
     },
     "execution_count": 12,
     "metadata": {},
     "output_type": "execute_result"
    }
   ],
   "source": [
    "from langchain.chains import SimpleSequentialChain\n",
    "\n",
    "seq_chain = SimpleSequentialChain(chains = [capital_chain,famous_chain])\n",
    "\n",
    "# seq_chain.invoke(\"India\")\n"
   ]
  },
  {
   "cell_type": "code",
   "execution_count": 13,
   "metadata": {},
   "outputs": [
    {
     "data": {
      "text/plain": [
       "\"The capital of India, New Delhi, is a treasure trove of history, culture, and architecture! Here are some amazing places to visit in Delhi:\\n\\n1. **Red Fort** (Lal Qila): A UNESCO World Heritage Site, this 17th-century fort is a must-visit attraction in Delhi. Explore the Mughal-era architecture and witness the stunning evening light-and-sound show.\\n\\n2. **Qutub Minar**: Another UNESCO World Heritage Site, this 72.5-meter-tall minaret is the tallest brick minaret in the world. Marvel at the intricate carvings and inscriptions on the walls.\\n\\n3. **India Gate**: A war memorial built to honor the Indian soldiers who died during World War I, India Gate is a popular spot for picnic, photography, and relaxation.\\n\\n4. **Raj Ghat**: A sacred site where Mahatma Gandhi was cremated, Raj Ghat is a peaceful and serene place to pay respects to the Father of the Nation.\\n\\n5. **Humayun's Tomb**: A beautiful example of Mughal architecture, this mausoleum is the final resting place of Mughal Emperor Humayun and his wife, Haji Begum.\\n\\n6. **Lotus Temple**: A stunning example of modern architecture, the Lotus Temple is a Bahá'í House of Worship known for its unique design and beautiful gardens.\\n\\n7. **Akshardham Temple**: A majestic temple complex that showcases Indian culture and spirituality, Akshardham is a must-visit for its stunning architecture and beautiful gardens.\\n\\n8. **Connaught Place**: A bustling commercial hub, Connaught Place is known for its shopping, dining, and street food options. It's a great place to experience Delhi's vibrant culture.\\n\\n9. **Lodi Gardens**: A peaceful oasis in the heart of the city, Lodi Gardens is a beautiful park with walking trails, lakes, and Mughal-era tombs.\\n\\n10. **Hauz Khas**: A historic village turned hip neighborhood, Hauz Khas is known for its upscale shopping, dining, and nightlife options. It's a great place to experience Delhi's modern culture.\\n\\n11. **National Museum**: A treasure trove of Indian history and culture, the National Museum features a vast collection of artifacts, sculptures, and exhibits.\\n\\n12. **National Gallery of Modern Art**: A museum showcasing modern and contemporary Indian art, the National Gallery of Modern Art is a must-visit for art enthusiasts.\\n\\n13. **Safdarjung's Tomb**: A beautiful Mughal-era mausoleum, Safdarjung's Tomb is a peaceful and serene place to explore.\\n\\n14. **Jantar Mantar**: An ancient astronomical observatory built by Maharaja Jai Singh II, Jantar Mantar is a unique and fascinating place to visit.\\n\\n15. **Chandni Chowk**: A historic market street, Chandni Chowk is a bustling hub of activity, offering a wide range of shopping, dining, and street food options.\\n\\nThese are just a few of the many amazing places to visit in Delhi. The city has a lot to offer, so take your time to explore and discover its hidden gems!\""
      ]
     },
     "execution_count": 13,
     "metadata": {},
     "output_type": "execute_result"
    }
   ],
   "source": [
    "seq_chain.run(\"India\")"
   ]
  },
  {
   "cell_type": "code",
   "execution_count": 14,
   "metadata": {},
   "outputs": [],
   "source": [
    "# Prompt Template + LLM + Output Parser"
   ]
  },
  {
   "cell_type": "code",
   "execution_count": 15,
   "metadata": {},
   "outputs": [],
   "source": [
    "from langchain.prompts.chat import ChatPromptTemplate\n",
    "from langchain.schema import BaseOutputParser"
   ]
  },
  {
   "cell_type": "code",
   "execution_count": 17,
   "metadata": {},
   "outputs": [],
   "source": [
    "class CommaseparatedOutput(BaseOutputParser):\n",
    "    def parse(self,text:str):\n",
    "        return text.strip().split(',')"
   ]
  },
  {
   "cell_type": "code",
   "execution_count": 19,
   "metadata": {},
   "outputs": [],
   "source": [
    "template = \"You are helpful Assistant. When User gives you any input, you should generate five words synonymns which should be comma separated\"\n",
    "human_temp = \"{text}\"\n",
    "chat_prompt = ChatPromptTemplate.from_messages([\n",
    "    (\"system\",template),\n",
    "    (\"human\",human_temp)\n",
    "])\n"
   ]
  },
  {
   "cell_type": "code",
   "execution_count": 20,
   "metadata": {},
   "outputs": [],
   "source": [
    "chain = chat_prompt|llm|CommaseparatedOutput()"
   ]
  },
  {
   "cell_type": "code",
   "execution_count": 21,
   "metadata": {},
   "outputs": [
    {
     "data": {
      "text/plain": [
       "['Smart', ' Wise', ' Brilliant', ' Clever', ' Astute']"
      ]
     },
     "execution_count": 21,
     "metadata": {},
     "output_type": "execute_result"
    }
   ],
   "source": [
    "chain.invoke({\"text\":\"Intelligent\"})"
   ]
  },
  {
   "cell_type": "code",
   "execution_count": 23,
   "metadata": {},
   "outputs": [],
   "source": [
    "resp = llm.invoke(\"Tell me about Calcuta High court\")"
   ]
  },
  {
   "cell_type": "code",
   "execution_count": 26,
   "metadata": {},
   "outputs": [
    {
     "data": {
      "text/plain": [
       "\"The Calcutta High Court is the oldest High Court in India, established on July 2, 1862. It is located in Kolkata, West Bengal, and is one of the most prestigious and respected courts in the country. Here are some key facts about the Calcutta High Court:\\n\\n1. History: The Calcutta High Court was established by the British Government in 1862, with the objective of providing a permanent and independent judiciary in the Indian subcontinent. It was previously known as the Supreme Court of Judicature at Fort William.\\n2. Jurisdiction: The Calcutta High Court has jurisdiction over the state of West Bengal and the Union Territory of Andaman and Nicobar Islands. It is responsible for hearing and deciding cases arising out of the state and the UT.\\n3. Bench: The Calcutta High Court has a Chief Justice and 32 Judges, including District Judges, Additional Judges, and Acting Judges. The court is divided into several benches, including the Principal Bench, the Bench at Alipore, and the Bench at Siliguri.\\n4. Types of cases: The Calcutta High Court hears a wide range of cases, including civil, criminal, and constitutional matters. It also has original jurisdiction to hear and decide cases arising from the state and the UT.\\n5. Important cases: The Calcutta High Court has been involved in many significant cases, including the famous Nandigram case, which dealt with land acquisition and displacement of people.\\n6. Infrastructure: The Calcutta High Court is housed in a historic building in Kolkata, which is a blend of British and Indian architectural styles. The building has been declared a heritage structure by the Government of India.\\n7. Libraries: The Calcutta High Court has a large library with a vast collection of books, journals, and documents. It also has a digital library and a law library.\\n8. Legal aid: The Calcutta High Court has a Legal Aid Committee that provides free legal assistance to poor and indigent litigants.\\n9. Awards and recognition: The Calcutta High Court has received several awards and recognition for its contributions to the development of law and justice in India.\\n10. Challenges: The Calcutta High Court faces several challenges, including a large backlog of cases, inadequate infrastructure, and a shortage of judges.\\n\\nSome notable decisions of the Calcutta High Court include:\\n\\n1. The Nandigram case (2007): The court ruled that the government's decision to acquire land in Nandigram was unconstitutional and illegal.\\n2. The Singur case (2008): The court ruled that the government's decision to acquire land in Singur was unconstitutional and illegal.\\n3. The Shamnad Basheer case (2011): The court ruled that the government's decision to grant a patent to a foreign company was illegal and unconstitutional.\\n4. The Chanda Kochhar case (2019): The court framed charges against Chanda Kochhar, the former CEO of ICICI Bank, in a corruption case.\\n\\nOverall, the Calcutta High Court is an important institution in India, and its decisions have a significant impact on the country's legal landscape.\""
      ]
     },
     "execution_count": 26,
     "metadata": {},
     "output_type": "execute_result"
    }
   ],
   "source": [
    "resp.content"
   ]
  },
  {
   "cell_type": "code",
   "execution_count": null,
   "metadata": {},
   "outputs": [],
   "source": []
  },
  {
   "cell_type": "code",
   "execution_count": null,
   "metadata": {},
   "outputs": [],
   "source": []
  },
  {
   "cell_type": "code",
   "execution_count": null,
   "metadata": {},
   "outputs": [],
   "source": []
  },
  {
   "cell_type": "code",
   "execution_count": null,
   "metadata": {},
   "outputs": [],
   "source": []
  },
  {
   "cell_type": "code",
   "execution_count": null,
   "metadata": {},
   "outputs": [],
   "source": []
  },
  {
   "cell_type": "code",
   "execution_count": null,
   "metadata": {},
   "outputs": [],
   "source": []
  },
  {
   "cell_type": "code",
   "execution_count": null,
   "metadata": {},
   "outputs": [],
   "source": []
  },
  {
   "cell_type": "code",
   "execution_count": null,
   "metadata": {},
   "outputs": [],
   "source": []
  },
  {
   "cell_type": "code",
   "execution_count": null,
   "metadata": {},
   "outputs": [],
   "source": []
  }
 ],
 "metadata": {
  "kernelspec": {
   "display_name": "llms_env",
   "language": "python",
   "name": "python3"
  },
  "language_info": {
   "codemirror_mode": {
    "name": "ipython",
    "version": 3
   },
   "file_extension": ".py",
   "mimetype": "text/x-python",
   "name": "python",
   "nbconvert_exporter": "python",
   "pygments_lexer": "ipython3",
   "version": "3.10.0"
  }
 },
 "nbformat": 4,
 "nbformat_minor": 2
}
